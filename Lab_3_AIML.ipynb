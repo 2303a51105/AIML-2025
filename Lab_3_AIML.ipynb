{
  "cells": [
    {
      "cell_type": "markdown",
      "metadata": {
        "colab_type": "text",
        "id": "view-in-github"
      },
      "source": [
        "<a href=\"https://colab.research.google.com/github/2303a51105/AIML-2025/blob/main/Lab_3_AIML.ipynb\" target=\"_parent\"><img src=\"https://colab.research.google.com/assets/colab-badge.svg\" alt=\"Open In Colab\"/></a>"
      ]
    },
    {
      "cell_type": "markdown",
      "metadata": {
        "id": "6IzbMLRxV455"
      },
      "source": [
        "## Python Libraries required for Game Strategy"
      ]
    },
    {
      "cell_type": "code",
      "execution_count": null,
      "metadata": {
        "id": "i2SefyUSWPpx"
      },
      "outputs": [],
      "source": [
        "import random\n",
        "import math\n",
        "from collections import namedtuple, Counter, defaultdict\n",
        "import functools\n",
        "\n",
        "cache = functools.lru_cache(10**6)\n"
      ]
    },
    {
      "cell_type": "markdown",
      "metadata": {
        "id": "HpLoja9PWZ-b"
      },
      "source": [
        "## Game Class"
      ]
    },
    {
      "cell_type": "code",
      "execution_count": null,
      "metadata": {
        "id": "Vis3sOibWd5s"
      },
      "outputs": [],
      "source": [
        "class Game:\n",
        "    def actions(self, state):\n",
        "        \"\"\"Return a collection of the allowable moves from this state.\"\"\"\n",
        "        raise NotImplementedError\n",
        "\n",
        "    def result(self, state, move):\n",
        "        \"\"\"Return the state that results from making a move from a state.\"\"\"\n",
        "        raise NotImplementedError\n",
        "\n",
        "    def is_terminal(self, state):\n",
        "        \"\"\"Return True if this is a final state for the game.\"\"\"\n",
        "        return not self.actions(state)\n",
        "\n",
        "    def utility(self, state, player):\n",
        "        \"\"\"Return the value of this final state to player.\"\"\"\n",
        "        raise NotImplementedError"
      ]
    },
    {
      "cell_type": "markdown",
      "metadata": {
        "id": "BstYKz5hXC_Q"
      },
      "source": [
        "## Player Game using the Game Class Constructor"
      ]
    },
    {
      "cell_type": "code",
      "execution_count": null,
      "metadata": {
        "id": "vxA3ED1bXEP_"
      },
      "outputs": [],
      "source": [
        "def play_game(game, strategies: dict, verbose=False):\n",
        "    \"\"\"\n",
        "    Play a turn-taking game. 'strategies' is a {player_name: function} dict,\n",
        "    where function(state, game) is used to get the player's move.\n",
        "    \"\"\"\n",
        "    state = game.initial\n",
        "    while not game.is_terminal(state):\n",
        "        player = state.to_move\n",
        "        move = strategies[player](game, state)\n",
        "        state = game.result(state, move)\n",
        "\n",
        "        if verbose:\n",
        "            print('Player', player, 'move:', move)\n",
        "            print(state)\n",
        "\n",
        "    return state\n"
      ]
    },
    {
      "cell_type": "markdown",
      "metadata": {
        "id": "IaBV3JITZHkd"
      },
      "source": [
        "## Implement the Game Strategy Algorithms."
      ]
    },
    {
      "cell_type": "markdown",
      "metadata": {
        "id": "oRqCYMt3ZiLr"
      },
      "source": [
        "### Implement the MiniMax Search Algorithm"
      ]
    },
    {
      "cell_type": "code",
      "execution_count": null,
      "metadata": {
        "id": "AwbOcuRhZJjC"
      },
      "outputs": [],
      "source": [
        "def minimax_search(game, state):\n",
        "    \"\"\"Search game tree to determine best move; return (value, move) pair.\"\"\"\n",
        "\n",
        "    player = state.to_move\n",
        "    infinity = math.inf\n",
        "\n",
        "    def max_value(state):\n",
        "        if game.is_terminal(state):\n",
        "            return game.utility(state, player), None\n",
        "        v, move = -infinity, None\n",
        "        for a in game.actions(state):\n",
        "            v2, _ = min_value(game.result(state, a))\n",
        "            if v2 > v:\n",
        "                v, move = v2, a\n",
        "        return v, move\n",
        "\n",
        "    def min_value(state):\n",
        "        if game.is_terminal(state):\n",
        "            return game.utility(state, player), None\n",
        "        v, move = infinity, None\n",
        "        for a in game.actions(state):\n",
        "            v2, _ = max_value(game.result(state, a))\n",
        "            if v2 < v:\n",
        "                v, move = v2, a\n",
        "        return v, move\n",
        "\n",
        "    return max_value(state)\n"
      ]
    },
    {
      "cell_type": "markdown",
      "metadata": {
        "id": "pJbEHNJJZkSm"
      },
      "source": [
        "### Implement the Alpha-Beta Search Algorithm"
      ]
    },
    {
      "cell_type": "code",
      "execution_count": null,
      "metadata": {
        "id": "4FRHOvC9Zo2g"
      },
      "outputs": [],
      "source": [
        "def alphabeta_search(game, state):\n",
        "    \"\"\"Search game tree to determine best action; use alpha-beta pruning.\"\"\"\n",
        "    player = state.to_move\n",
        "\n",
        "    def max_value(state, alpha, beta):\n",
        "        if game.is_terminal(state):\n",
        "            return game.utility(state, player), None\n",
        "        v, move = -math.inf, None\n",
        "        for a in game.actions(state):\n",
        "            v2, _ = min_value(game.result(state, a), alpha, beta)\n",
        "            if v2 > v:\n",
        "                v, move = v2, a\n",
        "            alpha = max(alpha, v)\n",
        "            if v >= beta:\n",
        "                return v, move\n",
        "        return v, move\n",
        "\n",
        "    def min_value(state, alpha, beta):\n",
        "        if game.is_terminal(state):\n",
        "            return game.utility(state, player), None\n",
        "        v, move = math.inf, None\n",
        "        for a in game.actions(state):\n",
        "            v2, _ = max_value(game.result(state, a), alpha, beta)\n",
        "            if v2 < v:\n",
        "                v, move = v2, a\n",
        "            beta = min(beta, v)\n",
        "            if v <= alpha:\n",
        "                return v, move\n",
        "        return v, move\n",
        "\n",
        "    return max_value(state, -math.inf, math.inf)\n"
      ]
    },
    {
      "cell_type": "markdown",
      "metadata": {
        "id": "WLxGsMf6ZwGQ"
      },
      "source": [
        "##  Implement the Game Strategy using TicTocToe"
      ]
    },
    {
      "cell_type": "markdown",
      "metadata": {
        "id": "imbsOyHhZy2r"
      },
      "source": [
        "### Implement TicToCToe game using display constructors"
      ]
    },
    {
      "cell_type": "code",
      "execution_count": null,
      "metadata": {
        "id": "p158PLXkZ1cE"
      },
      "outputs": [],
      "source": [
        "class TicTacToe(Game):\n",
        "    \"\"\"Play TicTacToe on a 'height' by 'width' board, needing 'k' in a row to win.\n",
        "    'X' plays first against 'O'.\"\"\"\n",
        "\n",
        "    def __init__(self, height=3, width=3, k=3):\n",
        "        self.k = k  # k in a row to win\n",
        "        self.squares = {(x, y) for x in range(width) for y in range(height)}\n",
        "        self.initial = Board(height=height, width=width, to_move='X', utility=0)\n",
        "\n",
        "    def actions(self, board):\n",
        "        \"\"\"Legal moves are any square not yet taken.\"\"\"\n",
        "        return self.squares - set(board)\n",
        "\n",
        "    def result(self, board, square):\n",
        "        \"\"\"Place a marker for the current player on the square.\"\"\"\n",
        "        player = board['to_move']\n",
        "        board = board.new({square: player}, to_move=('O' if player == 'X' else 'X'))\n",
        "        win = self.k_in_row(board, player, square, self.k)\n",
        "        board['utility'] = (0 if not win else +1 if player == 'X' else -1)\n",
        "        return board\n",
        "\n",
        "    def utility(self, board, player):\n",
        "        \"\"\"Return the value to player; 1 for win, -1 for loss, 0 otherwise.\"\"\"\n",
        "        return board['utility'] if player == 'X' else -board['utility']\n",
        "\n",
        "    def is_terminal(self, board):\n",
        "        \"\"\"A board is a terminal state if it is won or there are no empty squares.\"\"\"\n",
        "        return board['utility'] != 0 or len(self.squares) == len(board)\n",
        "\n",
        "    def display(self, board):\n",
        "        print(board)\n",
        "\n",
        "    def k_in_row(self, board, player, square, k):\n",
        "        \"\"\"Return True if player has k pieces in a line through square.\"\"\"\n",
        "        def in_row(x, y, dx, dy):\n",
        "            return 0 if board.get((x, y)) != player else 1 + in_row(x + dx, y + dy, dx, dy)\n",
        "\n",
        "        return any(\n",
        "            in_row(*square, dx, dy) + in_row(*square, -dx, -dy) - 1 >= k\n",
        "            for (dx, dy) in [(0, 1), (1, 0), (1, 1), (1, -1)]\n",
        "        )\n"
      ]
    },
    {
      "cell_type": "markdown",
      "metadata": {
        "id": "SmlBfM8zZ5sJ"
      },
      "source": [
        "### Implement a Game Board using defaultdict using _init_ , _new_, _missing_, _hash_, _repr_"
      ]
    },
    {
      "cell_type": "code",
      "execution_count": null,
      "metadata": {
        "id": "EOgoFwWnaHsg"
      },
      "outputs": [],
      "source": [
        "class Board(defaultdict):\n",
        "    \"\"\"A board has the player to move, a cached utility value,\n",
        "    and a dict of {(x, y): player} entries, where player is 'X' or 'O'.\"\"\"\n",
        "    empty = '.'\n",
        "    off = '#'\n",
        "\n",
        "    def __init__(self, width=8, height=8, to_move=None, **kwds):\n",
        "        super().__init__(self.missing)\n",
        "        self.update(width=width, height=height, to_move=to_move, **kwds)\n",
        "\n",
        "    def new(self, changes: dict, **kwds) -> 'Board':\n",
        "        \"\"\"Given a dict of {(x, y): contents} changes, return a new Board with the changes.\"\"\"\n",
        "        board = Board(width=self['width'], height=self['height'], **kwds)\n",
        "        board.update(self)\n",
        "        board.update(changes)\n",
        "        return board\n",
        "\n",
        "    def __missing__(self, loc):\n",
        "        x, y = loc\n",
        "        if 0 <= x < self['width'] and 0 <= y < self['height']:\n",
        "            return self.empty\n",
        "        else:\n",
        "            return self.off\n",
        "\n",
        "    def __hash__(self):\n",
        "        return hash(tuple(sorted(self.items()))) + hash(self['to_move'])\n",
        "\n",
        "    def __repr__(self):\n",
        "        def row(y):\n",
        "            return ' '.join(self[x, y] for x in range(self['width']))\n",
        "        return '\\n'.join(map(row, range(self['height']))) + '\\n'\n"
      ]
    },
    {
      "cell_type": "markdown",
      "metadata": {
        "id": "CkEgRPSzaKLp"
      },
      "source": [
        "### Implement random player(game,state) and player(search algorithm)"
      ]
    },
    {
      "cell_type": "code",
      "execution_count": null,
      "metadata": {
        "id": "AlSC-21CaMop"
      },
      "outputs": [],
      "source": [
        "def random_player(game, state):\n",
        "    \"\"\"A player that selects a random valid action.\"\"\"\n",
        "    return random.choice(list(game.actions(state)))\n",
        "\n",
        "def player(search_algorithm):\n",
        "    \"\"\"A game player who uses the specified search algorithm.\"\"\"\n",
        "    return lambda game, state: search_algorithm(game, state)[1]\n"
      ]
    },
    {
      "cell_type": "markdown",
      "metadata": {
        "id": "aYypd2CroNMV"
      },
      "source": [
        "## Evaluate the AI Game Strategy using TicTocToe"
      ]
    }
  ],
  "metadata": {
    "colab": {
      "authorship_tag": "ABX9TyNiyaPio+v2SKb2kaYCq8rg",
      "include_colab_link": true,
      "provenance": []
    },
    "kernelspec": {
      "display_name": "Python 3",
      "name": "python3"
    },
    "language_info": {
      "name": "python"
    }
  },
  "nbformat": 4,
  "nbformat_minor": 0
}
